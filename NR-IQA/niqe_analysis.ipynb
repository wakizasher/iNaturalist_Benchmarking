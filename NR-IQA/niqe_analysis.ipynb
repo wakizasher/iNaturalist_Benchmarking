{
 "cells": [
  {
   "cell_type": "code",
   "id": "initial_id",
   "metadata": {
    "collapsed": true,
    "ExecuteTime": {
     "end_time": "2025-05-06T06:57:08.008506Z",
     "start_time": "2025-05-06T06:57:07.993917Z"
    }
   },
   "source": [
    "import pandas as pd\n",
    "import numpy as np\n",
    "import matplotlib.pyplot as plt"
   ],
   "outputs": [],
   "execution_count": 7
  },
  {
   "metadata": {
    "ExecuteTime": {
     "end_time": "2025-05-06T06:57:08.131936Z",
     "start_time": "2025-05-06T06:57:08.052119Z"
    }
   },
   "cell_type": "code",
   "source": "df = pd.read_csv(r\"C:\\Users\\nikit\\Pycharm\\No_Reference\\valid_niqe_results.csv\")",
   "id": "5ba52d60c435166a",
   "outputs": [],
   "execution_count": 8
  },
  {
   "metadata": {
    "ExecuteTime": {
     "end_time": "2025-05-06T06:57:08.164037Z",
     "start_time": "2025-05-06T06:57:08.149145Z"
    }
   },
   "cell_type": "code",
   "source": "df.head()",
   "id": "2de7741336624c52",
   "outputs": [
    {
     "data": {
      "text/plain": [
       "                                       Image_Path  NIQE_score\n",
       "0     D:\\iNaturalist\\images\\Bellis_perennis_0.jpg    6.045126\n",
       "1     D:\\iNaturalist\\images\\Bellis_perennis_1.JPG    3.410430\n",
       "2    D:\\iNaturalist\\images\\Bellis_perennis_10.JPG    2.502014\n",
       "3   D:\\iNaturalist\\images\\Bellis_perennis_100.jpg    3.838044\n",
       "4  D:\\iNaturalist\\images\\Bellis_perennis_1000.jpg    2.976666"
      ],
      "text/html": [
       "<div>\n",
       "<style scoped>\n",
       "    .dataframe tbody tr th:only-of-type {\n",
       "        vertical-align: middle;\n",
       "    }\n",
       "\n",
       "    .dataframe tbody tr th {\n",
       "        vertical-align: top;\n",
       "    }\n",
       "\n",
       "    .dataframe thead th {\n",
       "        text-align: right;\n",
       "    }\n",
       "</style>\n",
       "<table border=\"1\" class=\"dataframe\">\n",
       "  <thead>\n",
       "    <tr style=\"text-align: right;\">\n",
       "      <th></th>\n",
       "      <th>Image_Path</th>\n",
       "      <th>NIQE_score</th>\n",
       "    </tr>\n",
       "  </thead>\n",
       "  <tbody>\n",
       "    <tr>\n",
       "      <th>0</th>\n",
       "      <td>D:\\iNaturalist\\images\\Bellis_perennis_0.jpg</td>\n",
       "      <td>6.045126</td>\n",
       "    </tr>\n",
       "    <tr>\n",
       "      <th>1</th>\n",
       "      <td>D:\\iNaturalist\\images\\Bellis_perennis_1.JPG</td>\n",
       "      <td>3.410430</td>\n",
       "    </tr>\n",
       "    <tr>\n",
       "      <th>2</th>\n",
       "      <td>D:\\iNaturalist\\images\\Bellis_perennis_10.JPG</td>\n",
       "      <td>2.502014</td>\n",
       "    </tr>\n",
       "    <tr>\n",
       "      <th>3</th>\n",
       "      <td>D:\\iNaturalist\\images\\Bellis_perennis_100.jpg</td>\n",
       "      <td>3.838044</td>\n",
       "    </tr>\n",
       "    <tr>\n",
       "      <th>4</th>\n",
       "      <td>D:\\iNaturalist\\images\\Bellis_perennis_1000.jpg</td>\n",
       "      <td>2.976666</td>\n",
       "    </tr>\n",
       "  </tbody>\n",
       "</table>\n",
       "</div>"
      ]
     },
     "execution_count": 9,
     "metadata": {},
     "output_type": "execute_result"
    }
   ],
   "execution_count": 9
  },
  {
   "metadata": {
    "ExecuteTime": {
     "end_time": "2025-05-06T06:57:08.311768Z",
     "start_time": "2025-05-06T06:57:08.292341Z"
    }
   },
   "cell_type": "code",
   "source": "df.describe()",
   "id": "93b44339fb3141c5",
   "outputs": [
    {
     "data": {
      "text/plain": [
       "         NIQE_score\n",
       "count  51253.000000\n",
       "mean       4.082252\n",
       "std        1.005623\n",
       "min        1.812825\n",
       "25%        3.406444\n",
       "50%        3.938671\n",
       "75%        4.577956\n",
       "max       40.952171"
      ],
      "text/html": [
       "<div>\n",
       "<style scoped>\n",
       "    .dataframe tbody tr th:only-of-type {\n",
       "        vertical-align: middle;\n",
       "    }\n",
       "\n",
       "    .dataframe tbody tr th {\n",
       "        vertical-align: top;\n",
       "    }\n",
       "\n",
       "    .dataframe thead th {\n",
       "        text-align: right;\n",
       "    }\n",
       "</style>\n",
       "<table border=\"1\" class=\"dataframe\">\n",
       "  <thead>\n",
       "    <tr style=\"text-align: right;\">\n",
       "      <th></th>\n",
       "      <th>NIQE_score</th>\n",
       "    </tr>\n",
       "  </thead>\n",
       "  <tbody>\n",
       "    <tr>\n",
       "      <th>count</th>\n",
       "      <td>51253.000000</td>\n",
       "    </tr>\n",
       "    <tr>\n",
       "      <th>mean</th>\n",
       "      <td>4.082252</td>\n",
       "    </tr>\n",
       "    <tr>\n",
       "      <th>std</th>\n",
       "      <td>1.005623</td>\n",
       "    </tr>\n",
       "    <tr>\n",
       "      <th>min</th>\n",
       "      <td>1.812825</td>\n",
       "    </tr>\n",
       "    <tr>\n",
       "      <th>25%</th>\n",
       "      <td>3.406444</td>\n",
       "    </tr>\n",
       "    <tr>\n",
       "      <th>50%</th>\n",
       "      <td>3.938671</td>\n",
       "    </tr>\n",
       "    <tr>\n",
       "      <th>75%</th>\n",
       "      <td>4.577956</td>\n",
       "    </tr>\n",
       "    <tr>\n",
       "      <th>max</th>\n",
       "      <td>40.952171</td>\n",
       "    </tr>\n",
       "  </tbody>\n",
       "</table>\n",
       "</div>"
      ]
     },
     "execution_count": 10,
     "metadata": {},
     "output_type": "execute_result"
    }
   ],
   "execution_count": 10
  },
  {
   "metadata": {
    "ExecuteTime": {
     "end_time": "2025-05-06T06:57:08.472784Z",
     "start_time": "2025-05-06T06:57:08.459678Z"
    }
   },
   "cell_type": "code",
   "source": "df.loc[df['NIQE_score'] == 40.95217141203016]",
   "id": "b2c49c97e87a6913",
   "outputs": [
    {
     "data": {
      "text/plain": [
       "                                            Image_Path  NIQE_score\n",
       "30159  D:\\iNaturalist\\images\\Bellis_perennis_67036.jpg   40.952171"
      ],
      "text/html": [
       "<div>\n",
       "<style scoped>\n",
       "    .dataframe tbody tr th:only-of-type {\n",
       "        vertical-align: middle;\n",
       "    }\n",
       "\n",
       "    .dataframe tbody tr th {\n",
       "        vertical-align: top;\n",
       "    }\n",
       "\n",
       "    .dataframe thead th {\n",
       "        text-align: right;\n",
       "    }\n",
       "</style>\n",
       "<table border=\"1\" class=\"dataframe\">\n",
       "  <thead>\n",
       "    <tr style=\"text-align: right;\">\n",
       "      <th></th>\n",
       "      <th>Image_Path</th>\n",
       "      <th>NIQE_score</th>\n",
       "    </tr>\n",
       "  </thead>\n",
       "  <tbody>\n",
       "    <tr>\n",
       "      <th>30159</th>\n",
       "      <td>D:\\iNaturalist\\images\\Bellis_perennis_67036.jpg</td>\n",
       "      <td>40.952171</td>\n",
       "    </tr>\n",
       "  </tbody>\n",
       "</table>\n",
       "</div>"
      ]
     },
     "execution_count": 11,
     "metadata": {},
     "output_type": "execute_result"
    }
   ],
   "execution_count": 11
  },
  {
   "metadata": {
    "ExecuteTime": {
     "end_time": "2025-05-06T06:57:08.708353Z",
     "start_time": "2025-05-06T06:57:08.687881Z"
    }
   },
   "cell_type": "code",
   "source": "df.loc[df['NIQE_score'] == 1.8128246073188832]",
   "id": "68e522bdc29aea14",
   "outputs": [
    {
     "data": {
      "text/plain": [
       "                                              Image_Path  NIQE_score\n",
       "45573  D:\\iNaturalist\\images\\Leucanthemum_vulgare_892...    1.812825"
      ],
      "text/html": [
       "<div>\n",
       "<style scoped>\n",
       "    .dataframe tbody tr th:only-of-type {\n",
       "        vertical-align: middle;\n",
       "    }\n",
       "\n",
       "    .dataframe tbody tr th {\n",
       "        vertical-align: top;\n",
       "    }\n",
       "\n",
       "    .dataframe thead th {\n",
       "        text-align: right;\n",
       "    }\n",
       "</style>\n",
       "<table border=\"1\" class=\"dataframe\">\n",
       "  <thead>\n",
       "    <tr style=\"text-align: right;\">\n",
       "      <th></th>\n",
       "      <th>Image_Path</th>\n",
       "      <th>NIQE_score</th>\n",
       "    </tr>\n",
       "  </thead>\n",
       "  <tbody>\n",
       "    <tr>\n",
       "      <th>45573</th>\n",
       "      <td>D:\\iNaturalist\\images\\Leucanthemum_vulgare_892...</td>\n",
       "      <td>1.812825</td>\n",
       "    </tr>\n",
       "  </tbody>\n",
       "</table>\n",
       "</div>"
      ]
     },
     "execution_count": 12,
     "metadata": {},
     "output_type": "execute_result"
    }
   ],
   "execution_count": 12
  },
  {
   "metadata": {
    "ExecuteTime": {
     "end_time": "2025-05-06T10:17:40.163196Z",
     "start_time": "2025-05-06T10:17:40.041791Z"
    }
   },
   "cell_type": "code",
   "source": [
    "# Create a histogram with density and custom color\n",
    "plt.hist(df['NIQE_score'],bins = 40, color = 'blue', edgecolor='black', alpha=0.7, range=(0,10))\n",
    "plt.xlabel('NIQE Values')\n",
    "plt.title('NIQE Values Distribution')\n",
    "plt.show()"
   ],
   "id": "5e7feb8784da920",
   "outputs": [
    {
     "data": {
      "text/plain": [
       "<Figure size 640x480 with 1 Axes>"
      ],
      "image/png": "[encoded data removed]"
     },
     "metadata": {},
     "output_type": "display_data"
    }
   ],
   "execution_count": 26
  },
  {
   "metadata": {
    "ExecuteTime": {
     "end_time": "2025-05-06T06:57:09.598836Z",
     "start_time": "2025-05-06T06:57:09.428318Z"
    }
   },
   "cell_type": "code",
   "source": [
    "fig = plt.figure(figsize=(10,7))\n",
    "plt.boxplot(df['NIQE_score'])\n",
    "plt.xlabel('NIQE score')\n",
    "plt.title('Box Plot Scores Distribution')\n",
    "plt.show()"
   ],
   "id": "2996df6c9b4ccf4b",
   "outputs": [
    {
     "data": {
      "text/plain": [
       "<Figure size 1000x700 with 1 Axes>"
      ],
      "image/png": "[encoded data removed]"
     },
     "metadata": {},
     "output_type": "display_data"
    }
   ],
   "execution_count": 14
  },
  {
   "metadata": {
    "ExecuteTime": {
     "end_time": "2025-05-06T06:57:09.877082Z",
     "start_time": "2025-05-06T06:57:09.858540Z"
    }
   },
   "cell_type": "code",
   "source": " df.loc[df['NIQE_score'] > 15]",
   "id": "ee9487f5203035e7",
   "outputs": [
    {
     "data": {
      "text/plain": [
       "                                              Image_Path  NIQE_score\n",
       "15631    D:\\iNaturalist\\images\\Bellis_perennis_38766.jpg   40.612504\n",
       "30159    D:\\iNaturalist\\images\\Bellis_perennis_67036.jpg   40.952171\n",
       "34014    D:\\iNaturalist\\images\\Bellis_perennis_74444.jpg   17.237936\n",
       "49925  D:\\iNaturalist\\images\\Leucanthemum_vulgare_998...   19.818337"
      ],
      "text/html": [
       "<div>\n",
       "<style scoped>\n",
       "    .dataframe tbody tr th:only-of-type {\n",
       "        vertical-align: middle;\n",
       "    }\n",
       "\n",
       "    .dataframe tbody tr th {\n",
       "        vertical-align: top;\n",
       "    }\n",
       "\n",
       "    .dataframe thead th {\n",
       "        text-align: right;\n",
       "    }\n",
       "</style>\n",
       "<table border=\"1\" class=\"dataframe\">\n",
       "  <thead>\n",
       "    <tr style=\"text-align: right;\">\n",
       "      <th></th>\n",
       "      <th>Image_Path</th>\n",
       "      <th>NIQE_score</th>\n",
       "    </tr>\n",
       "  </thead>\n",
       "  <tbody>\n",
       "    <tr>\n",
       "      <th>15631</th>\n",
       "      <td>D:\\iNaturalist\\images\\Bellis_perennis_38766.jpg</td>\n",
       "      <td>40.612504</td>\n",
       "    </tr>\n",
       "    <tr>\n",
       "      <th>30159</th>\n",
       "      <td>D:\\iNaturalist\\images\\Bellis_perennis_67036.jpg</td>\n",
       "      <td>40.952171</td>\n",
       "    </tr>\n",
       "    <tr>\n",
       "      <th>34014</th>\n",
       "      <td>D:\\iNaturalist\\images\\Bellis_perennis_74444.jpg</td>\n",
       "      <td>17.237936</td>\n",
       "    </tr>\n",
       "    <tr>\n",
       "      <th>49925</th>\n",
       "      <td>D:\\iNaturalist\\images\\Leucanthemum_vulgare_998...</td>\n",
       "      <td>19.818337</td>\n",
       "    </tr>\n",
       "  </tbody>\n",
       "</table>\n",
       "</div>"
      ]
     },
     "execution_count": 15,
     "metadata": {},
     "output_type": "execute_result"
    }
   ],
   "execution_count": 15
  },
  {
   "metadata": {
    "ExecuteTime": {
     "end_time": "2025-05-06T06:57:10.032479Z",
     "start_time": "2025-05-06T06:57:10.017952Z"
    }
   },
   "cell_type": "code",
   "source": "q = df[\"NIQE_score\"].quantile(0.99)",
   "id": "a5e52053e461e9e3",
   "outputs": [],
   "execution_count": 16
  },
  {
   "metadata": {
    "ExecuteTime": {
     "end_time": "2025-05-06T06:57:10.188769Z",
     "start_time": "2025-05-06T06:57:10.175032Z"
    }
   },
   "cell_type": "code",
   "source": "df = df[df[\"NIQE_score\"] < q]",
   "id": "759a294f72b08c81",
   "outputs": [],
   "execution_count": 17
  },
  {
   "metadata": {
    "ExecuteTime": {
     "end_time": "2025-05-06T06:57:10.452130Z",
     "start_time": "2025-05-06T06:57:10.360877Z"
    }
   },
   "cell_type": "code",
   "source": [
    "fig = plt.figure(figsize=(10,7))\n",
    "plt.boxplot(df['NIQE_score'])\n",
    "plt.xlabel('NIQE score')\n",
    "plt.title('Box Plot Scores Distribution without Outliers NIQE')\n",
    "plt.show()"
   ],
   "id": "3abdc580833ff875",
   "outputs": [
    {
     "data": {
      "text/plain": [
       "<Figure size 1000x700 with 1 Axes>"
      ],
      "image/png": "[encoded data removed]"
     },
     "metadata": {},
     "output_type": "display_data"
    }
   ],
   "execution_count": 18
  },
  {
   "metadata": {},
   "cell_type": "markdown",
   "source": "## Seting up the threshold",
   "id": "fff910528e234a47"
  },
  {
   "metadata": {},
   "cell_type": "markdown",
   "source": [
    "Based on NIQE original paper:\n",
    "NIQE < 3: Excellent\n",
    "NIQE 3 - 5: Acceptable\n",
    "NIQE > 5 - 6: Questionable/Bad\n",
    "Based on my Box Plot Upper Whisker is about 6 - 6,5, then images above upper whisker are likely to be 'bad' and can be excluded\n"
   ],
   "id": "e7f7fedfe7db7bf7"
  },
  {
   "metadata": {
    "ExecuteTime": {
     "end_time": "2025-05-06T06:57:10.514079Z",
     "start_time": "2025-05-06T06:57:10.503604Z"
    }
   },
   "cell_type": "code",
   "source": [
    "Q1 = df[\"NIQE_score\"].quantile(0.25)\n",
    "Q3 = df[\"NIQE_score\"].quantile(0.75)\n",
    "IQR = Q3 - Q1\n",
    "upper_whisker = Q3 + 1.5 * IQR\n",
    "df_good_images = df[df['NIQE_score'] <= upper_whisker]\n",
    "df_bad_images = df[df['NIQE_score'] > upper_whisker]\n"
   ],
   "id": "f3626af6e4fbea3e",
   "outputs": [],
   "execution_count": 19
  },
  {
   "metadata": {
    "ExecuteTime": {
     "end_time": "2025-05-06T06:57:10.545247Z",
     "start_time": "2025-05-06T06:57:10.530620Z"
    }
   },
   "cell_type": "code",
   "source": "df_bad_images.head()",
   "id": "d767a9f0474bb9e6",
   "outputs": [
    {
     "data": {
      "text/plain": [
       "                                          Image_Path  NIQE_score\n",
       "18   D:\\iNaturalist\\images\\Bellis_perennis_10022.jpg    6.323120\n",
       "86   D:\\iNaturalist\\images\\Bellis_perennis_10131.jpg    6.419077\n",
       "220  D:\\iNaturalist\\images\\Bellis_perennis_10353.jpg    6.480909\n",
       "244  D:\\iNaturalist\\images\\Bellis_perennis_10388.jpg    6.731666\n",
       "359    D:\\iNaturalist\\images\\Bellis_perennis_106.jpg    6.938601"
      ],
      "text/html": [
       "<div>\n",
       "<style scoped>\n",
       "    .dataframe tbody tr th:only-of-type {\n",
       "        vertical-align: middle;\n",
       "    }\n",
       "\n",
       "    .dataframe tbody tr th {\n",
       "        vertical-align: top;\n",
       "    }\n",
       "\n",
       "    .dataframe thead th {\n",
       "        text-align: right;\n",
       "    }\n",
       "</style>\n",
       "<table border=\"1\" class=\"dataframe\">\n",
       "  <thead>\n",
       "    <tr style=\"text-align: right;\">\n",
       "      <th></th>\n",
       "      <th>Image_Path</th>\n",
       "      <th>NIQE_score</th>\n",
       "    </tr>\n",
       "  </thead>\n",
       "  <tbody>\n",
       "    <tr>\n",
       "      <th>18</th>\n",
       "      <td>D:\\iNaturalist\\images\\Bellis_perennis_10022.jpg</td>\n",
       "      <td>6.323120</td>\n",
       "    </tr>\n",
       "    <tr>\n",
       "      <th>86</th>\n",
       "      <td>D:\\iNaturalist\\images\\Bellis_perennis_10131.jpg</td>\n",
       "      <td>6.419077</td>\n",
       "    </tr>\n",
       "    <tr>\n",
       "      <th>220</th>\n",
       "      <td>D:\\iNaturalist\\images\\Bellis_perennis_10353.jpg</td>\n",
       "      <td>6.480909</td>\n",
       "    </tr>\n",
       "    <tr>\n",
       "      <th>244</th>\n",
       "      <td>D:\\iNaturalist\\images\\Bellis_perennis_10388.jpg</td>\n",
       "      <td>6.731666</td>\n",
       "    </tr>\n",
       "    <tr>\n",
       "      <th>359</th>\n",
       "      <td>D:\\iNaturalist\\images\\Bellis_perennis_106.jpg</td>\n",
       "      <td>6.938601</td>\n",
       "    </tr>\n",
       "  </tbody>\n",
       "</table>\n",
       "</div>"
      ]
     },
     "execution_count": 20,
     "metadata": {},
     "output_type": "execute_result"
    }
   ],
   "execution_count": 20
  },
  {
   "metadata": {},
   "cell_type": "markdown",
   "source": "## Normalization",
   "id": "96292e09a2391fe0"
  },
  {
   "metadata": {},
   "cell_type": "markdown",
   "source": "Rescale the score with min-max normalization so the minimum becomes 0 and the maximum becomes 1. After that invert the results so the 1 represents best looking images and the 0 represents worse looking images.",
   "id": "6ed343ad0caa06fa"
  },
  {
   "metadata": {
    "ExecuteTime": {
     "end_time": "2025-05-06T06:57:10.684067Z",
     "start_time": "2025-05-06T06:57:10.670282Z"
    }
   },
   "cell_type": "code",
   "source": [
    "min_val = df_good_images['NIQE_score'].min()\n",
    "max_val = df_good_images['NIQE_score'].max()\n",
    "\n",
    "df_good_images.loc[:,'NIQE_score_norm'] = (df_good_images.loc[:,'NIQE_score'] - min_val) / (max_val - min_val)"
   ],
   "id": "fb3c0a5ebf1ad133",
   "outputs": [
    {
     "name": "stderr",
     "output_type": "stream",
     "text": [
      "C:\\Users\\nikit\\AppData\\Local\\Temp\\ipykernel_21072\\250651089.py:4: SettingWithCopyWarning: \n",
      "A value is trying to be set on a copy of a slice from a DataFrame.\n",
      "Try using .loc[row_indexer,col_indexer] = value instead\n",
      "\n",
      "See the caveats in the documentation: https://pandas.pydata.org/pandas-docs/stable/user_guide/indexing.html#returning-a-view-versus-a-copy\n",
      "  df_good_images.loc[:,'NIQE_score_norm'] = (df_good_images.loc[:,'NIQE_score'] - min_val) / (max_val - min_val)\n"
     ]
    }
   ],
   "execution_count": 21
  },
  {
   "metadata": {
    "ExecuteTime": {
     "end_time": "2025-05-06T06:57:10.809340Z",
     "start_time": "2025-05-06T06:57:10.797024Z"
    }
   },
   "cell_type": "code",
   "source": "df_good_images.head()",
   "id": "eaef8dadb9caf30a",
   "outputs": [
    {
     "data": {
      "text/plain": [
       "                                       Image_Path  NIQE_score  NIQE_score_norm\n",
       "0     D:\\iNaturalist\\images\\Bellis_perennis_0.jpg    6.045126         0.945827\n",
       "1     D:\\iNaturalist\\images\\Bellis_perennis_1.JPG    3.410430         0.357030\n",
       "2    D:\\iNaturalist\\images\\Bellis_perennis_10.JPG    2.502014         0.154019\n",
       "3   D:\\iNaturalist\\images\\Bellis_perennis_100.jpg    3.838044         0.452593\n",
       "4  D:\\iNaturalist\\images\\Bellis_perennis_1000.jpg    2.976666         0.260093"
      ],
      "text/html": [
       "<div>\n",
       "<style scoped>\n",
       "    .dataframe tbody tr th:only-of-type {\n",
       "        vertical-align: middle;\n",
       "    }\n",
       "\n",
       "    .dataframe tbody tr th {\n",
       "        vertical-align: top;\n",
       "    }\n",
       "\n",
       "    .dataframe thead th {\n",
       "        text-align: right;\n",
       "    }\n",
       "</style>\n",
       "<table border=\"1\" class=\"dataframe\">\n",
       "  <thead>\n",
       "    <tr style=\"text-align: right;\">\n",
       "      <th></th>\n",
       "      <th>Image_Path</th>\n",
       "      <th>NIQE_score</th>\n",
       "      <th>NIQE_score_norm</th>\n",
       "    </tr>\n",
       "  </thead>\n",
       "  <tbody>\n",
       "    <tr>\n",
       "      <th>0</th>\n",
       "      <td>D:\\iNaturalist\\images\\Bellis_perennis_0.jpg</td>\n",
       "      <td>6.045126</td>\n",
       "      <td>0.945827</td>\n",
       "    </tr>\n",
       "    <tr>\n",
       "      <th>1</th>\n",
       "      <td>D:\\iNaturalist\\images\\Bellis_perennis_1.JPG</td>\n",
       "      <td>3.410430</td>\n",
       "      <td>0.357030</td>\n",
       "    </tr>\n",
       "    <tr>\n",
       "      <th>2</th>\n",
       "      <td>D:\\iNaturalist\\images\\Bellis_perennis_10.JPG</td>\n",
       "      <td>2.502014</td>\n",
       "      <td>0.154019</td>\n",
       "    </tr>\n",
       "    <tr>\n",
       "      <th>3</th>\n",
       "      <td>D:\\iNaturalist\\images\\Bellis_perennis_100.jpg</td>\n",
       "      <td>3.838044</td>\n",
       "      <td>0.452593</td>\n",
       "    </tr>\n",
       "    <tr>\n",
       "      <th>4</th>\n",
       "      <td>D:\\iNaturalist\\images\\Bellis_perennis_1000.jpg</td>\n",
       "      <td>2.976666</td>\n",
       "      <td>0.260093</td>\n",
       "    </tr>\n",
       "  </tbody>\n",
       "</table>\n",
       "</div>"
      ]
     },
     "execution_count": 22,
     "metadata": {},
     "output_type": "execute_result"
    }
   ],
   "execution_count": 22
  },
  {
   "metadata": {
    "ExecuteTime": {
     "end_time": "2025-05-06T06:57:11.010589Z",
     "start_time": "2025-05-06T06:57:10.996695Z"
    }
   },
   "cell_type": "code",
   "source": "df_good_images.loc[:,'NIQE_score_norm'] = 1 - df_good_images.loc[:,'NIQE_score_norm']",
   "id": "7f7967c668b473e1",
   "outputs": [],
   "execution_count": 23
  },
  {
   "metadata": {
    "ExecuteTime": {
     "end_time": "2025-05-06T06:57:11.134976Z",
     "start_time": "2025-05-06T06:57:11.118224Z"
    }
   },
   "cell_type": "code",
   "source": "df_good_images.head()",
   "id": "2fe3e48724d38139",
   "outputs": [
    {
     "data": {
      "text/plain": [
       "                                       Image_Path  NIQE_score  NIQE_score_norm\n",
       "0     D:\\iNaturalist\\images\\Bellis_perennis_0.jpg    6.045126         0.054173\n",
       "1     D:\\iNaturalist\\images\\Bellis_perennis_1.JPG    3.410430         0.642970\n",
       "2    D:\\iNaturalist\\images\\Bellis_perennis_10.JPG    2.502014         0.845981\n",
       "3   D:\\iNaturalist\\images\\Bellis_perennis_100.jpg    3.838044         0.547407\n",
       "4  D:\\iNaturalist\\images\\Bellis_perennis_1000.jpg    2.976666         0.739907"
      ],
      "text/html": [
       "<div>\n",
       "<style scoped>\n",
       "    .dataframe tbody tr th:only-of-type {\n",
       "        vertical-align: middle;\n",
       "    }\n",
       "\n",
       "    .dataframe tbody tr th {\n",
       "        vertical-align: top;\n",
       "    }\n",
       "\n",
       "    .dataframe thead th {\n",
       "        text-align: right;\n",
       "    }\n",
       "</style>\n",
       "<table border=\"1\" class=\"dataframe\">\n",
       "  <thead>\n",
       "    <tr style=\"text-align: right;\">\n",
       "      <th></th>\n",
       "      <th>Image_Path</th>\n",
       "      <th>NIQE_score</th>\n",
       "      <th>NIQE_score_norm</th>\n",
       "    </tr>\n",
       "  </thead>\n",
       "  <tbody>\n",
       "    <tr>\n",
       "      <th>0</th>\n",
       "      <td>D:\\iNaturalist\\images\\Bellis_perennis_0.jpg</td>\n",
       "      <td>6.045126</td>\n",
       "      <td>0.054173</td>\n",
       "    </tr>\n",
       "    <tr>\n",
       "      <th>1</th>\n",
       "      <td>D:\\iNaturalist\\images\\Bellis_perennis_1.JPG</td>\n",
       "      <td>3.410430</td>\n",
       "      <td>0.642970</td>\n",
       "    </tr>\n",
       "    <tr>\n",
       "      <th>2</th>\n",
       "      <td>D:\\iNaturalist\\images\\Bellis_perennis_10.JPG</td>\n",
       "      <td>2.502014</td>\n",
       "      <td>0.845981</td>\n",
       "    </tr>\n",
       "    <tr>\n",
       "      <th>3</th>\n",
       "      <td>D:\\iNaturalist\\images\\Bellis_perennis_100.jpg</td>\n",
       "      <td>3.838044</td>\n",
       "      <td>0.547407</td>\n",
       "    </tr>\n",
       "    <tr>\n",
       "      <th>4</th>\n",
       "      <td>D:\\iNaturalist\\images\\Bellis_perennis_1000.jpg</td>\n",
       "      <td>2.976666</td>\n",
       "      <td>0.739907</td>\n",
       "    </tr>\n",
       "  </tbody>\n",
       "</table>\n",
       "</div>"
      ]
     },
     "execution_count": 24,
     "metadata": {},
     "output_type": "execute_result"
    }
   ],
   "execution_count": 24
  },
  {
   "metadata": {
    "ExecuteTime": {
     "end_time": "2025-05-06T06:57:11.433252Z",
     "start_time": "2025-05-06T06:57:11.415706Z"
    }
   },
   "cell_type": "code",
   "source": "df_good_images.shape",
   "id": "a9c6f1fa50694098",
   "outputs": [
    {
     "data": {
      "text/plain": [
       "(49774, 3)"
      ]
     },
     "execution_count": 25,
     "metadata": {},
     "output_type": "execute_result"
    }
   ],
   "execution_count": 25
  },
  {
   "metadata": {
    "ExecuteTime": {
     "end_time": "2025-05-06T06:57:11.697587Z",
     "start_time": "2025-05-06T06:57:11.678325Z"
    }
   },
   "cell_type": "code",
   "source": "",
   "id": "29e92476df67e15b",
   "outputs": [],
   "execution_count": null
  }
 ],
 "metadata": {
  "kernelspec": {
   "display_name": "Python 3",
   "language": "python",
   "name": "python3"
  },
  "language_info": {
   "codemirror_mode": {
    "name": "ipython",
    "version": 2
   },
   "file_extension": ".py",
   "mimetype": "text/x-python",
   "name": "python",
   "nbconvert_exporter": "python",
   "pygments_lexer": "ipython2",
   "version": "2.7.6"
  }
 },
 "nbformat": 4,
 "nbformat_minor": 5
}
